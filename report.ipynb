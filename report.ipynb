{
 "cells": [
  {
   "cell_type": "markdown",
   "metadata": {},
   "source": [
    "# Lightweight DBMS with B+ Tree Index - Report\n",
    "\n",
    "## Introduction\n",
    "\n",
    "This report documents the implementation and performance analysis of a lightweight database management system (DBMS) that uses a B+ Tree index for efficient data storage and retrieval. The B+ Tree is a self-balancing tree structure that enhances performance in disk-based and memory-based data management by optimizing search, insertion, and deletion operations.\n",
    "\n",
    "The main components of our implementation include:\n",
    "1. A B+ Tree implementation with insertion, deletion, search, and range query operations\n",
    "2. A brute force approach for comparison\n",
    "3. A database manager for creating and managing tables\n",
    "4. Performance analysis tools for comparing the B+ Tree with the brute force approach\n",
    "5. Visualization tools for the B+ Tree structure"
   ]
  },
  {
   "cell_type": "code",
   "execution_count": null,
   "metadata": {},
   "outputs": [],
   "source": [
    "# Import necessary libraries\n",
    "import sys\n",
    "import os\n",
    "import random\n",
    "import time\n",
    "import matplotlib.pyplot as plt\n",
    "import numpy as np\n",
    "\n",
    "# Import our modules\n",
    "from database.bplustree import BPlusTree\n",
    "from database.bruteforce import BruteForceDB\n",
    "from database.performance_analyzer import PerformanceAnalyzer\n",
    "from database.visualizer import BPlusTreeVisualizer\n",
    "from database.db_manager import Database\n",
    "from database.table import Table"
   ]
  },
  {
   "cell_type": "markdown",
   "metadata": {},
   "source": [
    "## Implementation\n",
    "\n",
    "### B+ Tree Implementation\n",
    "\n",
    "Our B+ Tree implementation consists of the following classes:\n",
    "- `BPlusTreeNode`: Base class for B+ Tree nodes\n",
    "- `BPlusTreeLeafNode`: Leaf node that stores keys and values\n",
    "- `BPlusTreeInternalNode`: Internal node that stores keys and child nodes\n",
    "- `BPlusTree`: Main class that provides the B+ Tree functionality\n",
    "\n",
    "The B+ Tree supports the following operations:\n",
    "- Insertion: Insert a key-value pair into the tree\n",
    "- Deletion: Delete a key-value pair from the tree\n",
    "- Search: Find a value by key\n",
    "- Range Query: Find all key-value pairs within a range\n",
    "\n",
    "Let's create a small B+ Tree and visualize it:"
   ]
  },
  {
   "cell_type": "code",
   "execution_count": null,
   "metadata": {},
   "outputs": [],
   "source": [
    "# Create a B+ Tree\n",
    "tree = BPlusTree(order=4)\n",
    "\n",
    "# Insert some key-value pairs\n",
    "for i in range(10):\n",
    "    tree.insert(i, f\"value_{i}\")\n",
    "\n",
    "# Visualize the tree\n",
    "visualizer = BPlusTreeVisualizer(tree)\n",
    "visualizer.visualize('b_plus_tree_example')\n",
    "\n",
    "# Display the image\n",
    "from IPython.display import Image\n",
    "Image(filename='b_plus_tree_example.png')"
   ]
  },
  {
   "cell_type": "markdown",
   "metadata": {},
   "source": [
    "### Database Implementation\n",
    "\n",
    "Our database implementation consists of the following classes:\n",
    "- `Table`: Represents a table in the database\n",
    "- `Database`: Manages tables and provides persistence\n",
    "\n",
    "Let's create a database and some tables:"
   ]
  },
  {
   "cell_type": "code",
   "execution_count": null,
   "metadata": {},
   "outputs": [],
   "source": [
    "# Create a database\n",
    "db = Database('test_db')\n",
    "\n",
    "# Create a users table\n",
    "users_schema = {\n",
    "    'id': 'int',\n",
    "    'name': 'str',\n",
    "    'email': 'str',\n",
    "    'age': 'int'\n",
    "}\n",
    "users_table = db.create_table('users', users_schema, 'id')\n",
    "\n",
    "# Insert some users\n",
    "users_table.insert({'id': 1, 'name': 'Alice', 'email': 'alice@example.com', 'age': 30})\n",
    "users_table.insert({'id': 2, 'name': 'Bob', 'email': 'bob@example.com', 'age': 25})\n",
    "users_table.insert({'id': 3, 'name': 'Charlie', 'email': 'charlie@example.com', 'age': 35})\n",
    "\n",
    "# Create a posts table\n",
    "posts_schema = {\n",
    "    'id': 'int',\n",
    "    'user_id': 'int',\n",
    "    'title': 'str',\n",
    "    'content': 'str'\n",
    "}\n",
    "posts_table = db.create_table('posts', posts_schema, 'id')\n",
    "\n",
    "# Insert some posts\n",
    "posts_table.insert({'id': 1, 'user_id': 1, 'title': 'First Post', 'content': 'Hello, world!'})\n",
    "posts_table.insert({'id': 2, 'user_id': 1, 'title': 'Second Post', 'content': 'This is my second post.'})\n",
    "posts_table.insert({'id': 3, 'user_id': 2, 'title': 'Bob\\'s Post', 'content': 'This is Bob\\'s post.'})\n",
    "\n",
    "# Save the database\n",
    "db.save()\n",
    "\n",
    "# List tables\n",
    "print(f\"Tables in the database: {db.list_tables()}\")\n",
    "\n",
    "# Query some data\n",
    "print(\"\\nUser with ID 2:\")\n",
    "print(users_table.select(2))\n",
    "\n",
    "print(\"\\nPosts by user with ID 1:\")\n",
    "for post in posts_table.select_where(lambda p: p['user_id'] == 1):\n",
    "    print(post)"
   ]
  },
  {
   "cell_type": "markdown",
   "metadata": {},
   "source": [
    "## Performance Analysis\n",
    "\n",
    "We'll now compare the performance of the B+ Tree with a brute force approach for various operations:"
   ]
  },
  {
   "cell_type": "code",
   "execution_count": null,
   "metadata": {},
   "outputs": [],
   "source": [
    "# Create a performance analyzer\n",
    "analyzer = PerformanceAnalyzer(b_plus_tree_order=4)\n",
    "\n",
    "# Define the data sizes to benchmark\n",
    "sizes = [100, 500, 1000, 5000, 10000]\n",
    "\n",
    "# Run the benchmarks\n",
    "results = analyzer.run_benchmarks(sizes, num_samples=3)\n",
    "\n",
    "# Plot the results\n",
    "analyzer.plot_results(sizes, save_path='performance_results.png')\n",
    "\n",
    "# Display the image\n",
    "Image(filename='performance_results.png')"
   ]
  },
  {
   "cell_type": "markdown",
   "metadata": {},
   "source": [
    "### Analysis of Results\n",
    "\n",
    "Let's analyze the performance results:\n",
    "\n",
    "1. **Insertion Time**: The B+ Tree insertion time is generally higher than the brute force approach for small data sizes due to the overhead of maintaining the tree structure. However, as the data size increases, the difference becomes less significant.\n",
    "\n",
    "2. **Search Time**: The B+ Tree significantly outperforms the brute force approach for search operations, especially as the data size increases. This is because the B+ Tree has a time complexity of O(log n) for search operations, while the brute force approach has a time complexity of O(n).\n",
    "\n",
    "3. **Range Query Time**: The B+ Tree also outperforms the brute force approach for range queries, especially for large data sizes. This is because the B+ Tree can efficiently find all keys within a range by traversing the leaf nodes.\n",
    "\n",
    "4. **Deletion Time**: The B+ Tree deletion time is generally higher than the brute force approach due to the overhead of maintaining the tree structure. However, the difference is not as significant as for insertion operations.\n",
    "\n",
    "5. **Random Operations**: For a mix of random operations, the B+ Tree generally outperforms the brute force approach, especially as the data size increases.\n",
    "\n",
    "6. **Memory Usage**: The B+ Tree generally uses more memory than the brute force approach due to the overhead of storing the tree structure. However, the difference is not significant for small data sizes."
   ]
  },
  {
   "cell_type": "markdown",
   "metadata": {},
   "source": [
    "## Visualization\n",
    "\n",
    "Let's visualize the B+ Tree structure of our database tables:"
   ]
  },
  {
   "cell_type": "code",
   "execution_count": null,
   "metadata": {},
   "outputs": [],
   "source": [
    "# Visualize the users table index\n",
    "users_visualizer = BPlusTreeVisualizer(users_table.index)\n",
    "users_visualizer.visualize('users_table_index')\n",
    "\n",
    "# Display the image\n",
    "Image(filename='users_table_index.png')"
   ]
  },
  {
   "cell_type": "code",
   "execution_count": null,
   "metadata": {},
   "outputs": [],
   "source": [
    "# Visualize the posts table index\n",
    "posts_visualizer = BPlusTreeVisualizer(posts_table.index)\n",
    "posts_visualizer.visualize('posts_table_index')\n",
    "\n",
    "# Display the image\n",
    "Image(filename='posts_table_index.png')"
   ]
  },
  {
   "cell_type": "markdown",
   "metadata": {},
   "source": [
    "## Conclusion\n",
    "\n",
    "In this project, we implemented a lightweight database management system with a B+ Tree index. We compared the performance of the B+ Tree with a brute force approach and found that the B+ Tree generally outperforms the brute force approach for search and range query operations, especially as the data size increases.\n",
    "\n",
    "The main advantages of the B+ Tree are:\n",
    "1. Efficient search operations with a time complexity of O(log n)\n",
    "2. Efficient range queries by traversing the leaf nodes\n",
    "3. Self-balancing structure that maintains good performance as the data size increases\n",
    "\n",
    "The main disadvantages are:\n",
    "1. Higher memory usage due to the overhead of storing the tree structure\n",
    "2. Higher insertion and deletion times due to the overhead of maintaining the tree structure\n",
    "\n",
    "Overall, the B+ Tree is a good choice for database indexing, especially for applications that require efficient search and range query operations."
   ]
  },
  {
   "cell_type": "markdown",
   "metadata": {},
   "source": [
    "## Future Improvements\n",
    "\n",
    "Some potential improvements to our implementation include:\n",
    "1. Support for secondary indexes\n",
    "2. Support for transactions\n",
    "3. Support for more complex queries (e.g., joins)\n",
    "4. Improved persistence with write-ahead logging\n",
    "5. Better memory management to reduce the memory overhead of the B+ Tree"
   ]
  }
 ],
 "metadata": {
  "kernelspec": {
   "display_name": "Python 3",
   "language": "python",
   "name": "python3"
  },
  "language_info": {
   "codemirror_mode": {
    "name": "ipython",
    "version": 3
   },
   "file_extension": ".py",
   "mimetype": "text/x-python",
   "name": "python",
   "nbconvert_exporter": "python",
   "pygments_lexer": "ipython3",
   "version": "3.8.10"
  }
 },
 "nbformat": 4,
 "nbformat_minor": 4
}
